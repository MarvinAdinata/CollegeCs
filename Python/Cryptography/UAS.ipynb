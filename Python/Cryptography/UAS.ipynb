{
 "cells": [
  {
   "cell_type": "code",
   "execution_count": 140,
   "metadata": {},
   "outputs": [
    {
     "name": "stdout",
     "output_type": "stream",
     "text": [
      "text \t\t: SELAMATPAGI\n",
      "ascii_txt \t: [83, 69, 76, 65, 77, 65, 84, 80, 65, 71, 73]\n",
      "alpha \t\t: 2\n",
      "beta \t\t: 54\n",
      "k \t\t: [41, 42, 43, 44, 45, 46, 47, 48, 49, 50, 51]\n",
      "r \t\t: [82, 57, 7, 14, 28, 56, 5, 10, 20, 40, 80]\n",
      "t \t\t: [78, 35, 72, 104, 83, 26, 81, 8, 30, 74, 29]\n",
      "m \t\t: [83, 69, 76, 65, 77, 65, 84, 80, 65, 71, 73]\n",
      "dec_txt \t: SELAMATPAGI\n"
     ]
    }
   ],
   "source": [
    "import math\n",
    "import random\n",
    "\n",
    "def findAlpha(p,q):\n",
    "    alpha = 2\n",
    "    while True:\n",
    "        if(alpha**2 % p != 1 or alpha**q % p != 1 ):\n",
    "            return alpha\n",
    "        alpha += 1\n",
    "\n",
    "def encrypt(text, k, a, p, q):\n",
    "    alpha = findAlpha(p,q) # Nentukan alpha\n",
    "    beta = alpha**a % p # Nentukan beta (harus diatas p)\n",
    "\n",
    "    r = [alpha**k[i] % p for i in range(len(text))]\n",
    "    t = [beta**k[i] * text[i] % p for i in range(len(text))]\n",
    "\n",
    "    encrypted_text_r = \"\"\n",
    "    text = [chr(i) for i in r]\n",
    "    encrypted_text_r = encrypted_text_r.join(text)\n",
    "    encrypted_text_t = \"\"\n",
    "    text = [chr(i) for i in t]\n",
    "    encrypted_text_t = encrypted_text_t.join(text)\n",
    "\n",
    "    return encrypted_text_r, encrypted_text_t, alpha, beta, r, t\n",
    "\n",
    "def decrypt(r, t, p, a):\n",
    "    m = [t[i] * r[i]**(p-1-a) % p for i in range(len(r))]\n",
    "\n",
    "    decrypted_text = \"\"\n",
    "    text = [chr(i) for i in m]\n",
    "    decrypted_text = decrypted_text.join(text)\n",
    "    return decrypted_text, m\n",
    "\n",
    "text = \"SELAMATPAGI\" # Ini nanti tolong disesuain sama input gui\n",
    "ascii_text = [ord(i) for i in text] # masukin ke array + jadiin ascii\n",
    "\n",
    "p = 107\n",
    "q = (p-1)/2\n",
    "a = p - 2\n",
    "# a = 65 # k manual like ppt\n",
    "\n",
    "# k = [random.randint(2,100000) for i in range(len(text))] # k random\n",
    "k = [41, 42, 43, 44, 45, 46, 47, 48, 49, 50, 51] # k manual like pdf\n",
    "# k = [57, 43, 65, 88, 34, 46, 47, 76, 87, 69, 41, 35] # k manual like ppt\n",
    "\n",
    "encrypted_text = \"\"\n",
    "decrypted_text = \"\"\n",
    "encrypted_text_r, encrypted_text_t, alpha, beta, r, t  = encrypt(ascii_text, k, a, p, q)\n",
    "decrypted_text, m = decrypt(r, t, p, a)\n",
    "\n",
    "print(\"text \\t\\t:\", text)\n",
    "print(\"ascii_txt \\t:\", ascii_text)\n",
    "print(\"alpha \\t\\t:\", alpha)\n",
    "print(\"beta \\t\\t:\", beta)\n",
    "print(\"k \\t\\t:\", k)\n",
    "print(\"r \\t\\t:\", r)\n",
    "# print(\"r_txt \\t\\t:\", encrypted_text_r)\n",
    "print(\"t \\t\\t:\", t)\n",
    "# print(\"t_txt \\t\\t:\", encrypted_text_t)\n",
    "print(\"m \\t\\t:\", m)\n",
    "print(\"dec_txt \\t:\", decrypted_text)\n"
   ]
  }
 ],
 "metadata": {
  "language_info": {
   "name": "python"
  },
  "orig_nbformat": 4
 },
 "nbformat": 4,
 "nbformat_minor": 2
}

{
 "cells": [
  {
   "cell_type": "code",
   "execution_count": 28,
   "metadata": {},
   "outputs": [
    {
     "name": "stdout",
     "output_type": "stream",
     "text": [
      "53.0\n",
      "4 106.0\n",
      "9 2.0\n",
      "16 1.0\n",
      "25 91.0\n",
      "36 105.0\n",
      "49 83.0\n",
      "64 106.0\n",
      "81 25.0\n",
      "46\n",
      "['S', 'E', 'L', 'A', 'M', 'A', 'T', ' ', 'P', 'A', 'G', 'I']\n"
     ]
    }
   ],
   "source": [
    "\n",
    "p = 107\n",
    "q = (p - 1) / 2\n",
    "print(q)\n",
    "\n",
    "for i in range(2, 10):\n",
    "   num_1 = i ** 2 % p\n",
    "   num_2 = i ** q % p\n",
    "   print(num_1, num_2)\n",
    "\n",
    "alpha = 2\n",
    "a = 63\n",
    "beta = alpha ** a % 107 \n",
    "print(beta)\n",
    "\n",
    "word = \"SELAMAT PAGI\"\n",
    "M = []\n",
    "\n",
    "for char in word:\n",
    "   M.append(char)\n",
    "\n",
    "print(M)\n",
    "\n",
    "\n",
    "\n",
    "\n",
    "\n",
    "\n",
    "# a = \n",
    "# beta = "
   ]
  },
  {
   "cell_type": "code",
   "execution_count": 37,
   "metadata": {},
   "outputs": [
    {
     "name": "stdout",
     "output_type": "stream",
     "text": [
      "21\n"
     ]
    }
   ],
   "source": [
    "print(46 ** 57 * 83 % 107)"
   ]
  },
  {
   "cell_type": "code",
   "execution_count": 34,
   "metadata": {},
   "outputs": [
    {
     "name": "stdout",
     "output_type": "stream",
     "text": [
      "16\n",
      "ascii\tk\tr\tt\tM\n",
      "85 \t 13 \t 45 \t 11 \t 85\n"
     ]
    }
   ],
   "source": [
    "# ascii = ord('A')\n",
    "# ascii = ord('K')\n",
    "ascii = ord('U')\n",
    "\n",
    "p = 107\n",
    "q = (p-1)//2\n",
    "alfa = 5\n",
    "a = 70\n",
    "\n",
    "k = 13\n",
    "\n",
    "beta = alfa**a % p\n",
    "print(beta)\n",
    "\n",
    "r = alfa**k % p\n",
    "ra = r**(p-1-a) % p\n",
    "t = beta**k*ascii % p\n",
    "\n",
    "M = t*ra % p\n",
    "print(\"ascii\\tk\\tr\\tt\\tM\")\n",
    "print(ascii, \"\\t\", k, \"\\t\", r, \"\\t\", t, \"\\t\", M)"
   ]
  }
 ],
 "metadata": {
  "kernelspec": {
   "display_name": "Python 3",
   "language": "python",
   "name": "python3"
  },
  "language_info": {
   "codemirror_mode": {
    "name": "ipython",
    "version": 3
   },
   "file_extension": ".py",
   "mimetype": "text/x-python",
   "name": "python",
   "nbconvert_exporter": "python",
   "pygments_lexer": "ipython3",
   "version": "3.11.3"
  },
  "orig_nbformat": 4
 },
 "nbformat": 4,
 "nbformat_minor": 2
}

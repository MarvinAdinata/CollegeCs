{
 "cells": [
  {
   "cell_type": "code",
   "execution_count": null,
   "metadata": {},
   "outputs": [],
   "source": []
  },
  {
   "cell_type": "code",
   "execution_count": 59,
   "metadata": {},
   "outputs": [
    {
     "data": {
      "image/svg+xml": "<svg xmlns=\"http://www.w3.org/2000/svg\" xmlns:xlink=\"http://www.w3.org/1999/xlink\" width=\"600\" height=\"400\" viewBox=\"0 0 600 400\">\n<rect x=\"-60\" y=\"-40\" width=\"720\" height=\"480\" fill=\"rgb(0%, 80%, 80%)\" fill-opacity=\"1\"/>\n<path fill-rule=\"nonzero\" fill=\"rgb(50%, 20%, 0%)\" fill-opacity=\"1\" d=\"M 0 200 L 600 200 L 600 400 L 0 400 Z M 0 200 \"/>\n</svg>",
      "text/plain": [
       "<IPython.core.display.SVG object>"
      ]
     },
     "metadata": {},
     "output_type": "display_data"
    },
    {
     "name": "stdout",
     "output_type": "stream",
     "text": [
      "JupytherNoteboookPython\n"
     ]
    }
   ],
   "source": [
    "import cairo\n",
    "from IPython.display import SVG, display, Image\n",
    "\n",
    "with cairo.SVGSurface(\"example.svg\", 600, 400) as surface:\n",
    "    cairo.ImageSurface(cairo.FORMAT_RGB24, 600, 400)\n",
    "    ctx = cairo.Context(surface)\n",
    "    ctx.set_source_rgb(0.0, 0.8, 0.8)\n",
    "    ctx.paint()\n",
    "\n",
    "    ctx.rectangle(0, 200, 600, 200)\n",
    "    ctx.set_source_rgba(0.5, 0.2, 0, 1)\n",
    "    ctx.fill()\n",
    "\n",
    "    surface.write_to_png('rectangle.png')\n",
    "\n",
    "display(SVG(filename=\"example.svg\"))\n",
    "\n",
    "print(\"JupytherNoteboookPython\")"
   ]
  }
 ],
 "metadata": {
  "kernelspec": {
   "display_name": "Python 3",
   "language": "python",
   "name": "python3"
  },
  "language_info": {
   "codemirror_mode": {
    "name": "ipython",
    "version": 3
   },
   "file_extension": ".py",
   "mimetype": "text/x-python",
   "name": "python",
   "nbconvert_exporter": "python",
   "pygments_lexer": "ipython3",
   "version": "3.11.1"
  },
  "orig_nbformat": 4,
  "vscode": {
   "interpreter": {
    "hash": "e7370f93d1d0cde622a1f8e1c04877d8463912d04d973331ad4851f04de6915a"
   }
  }
 },
 "nbformat": 4,
 "nbformat_minor": 2
}
